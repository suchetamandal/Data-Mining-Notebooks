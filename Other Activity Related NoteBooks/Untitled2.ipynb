{
 "cells": [
  {
   "cell_type": "code",
   "execution_count": 2,
   "metadata": {
    "collapsed": false
   },
   "outputs": [],
   "source": [
    "import sys\n",
    "import re\n",
    "import collections\n",
    "from bs4 import BeautifulSoup\n",
    "i=0\n",
    "source_code=\"\"\n",
    "list=[]\n",
    "\n",
    "for line in sys.stdin:\n",
    "    line = sys.stdin.readline().rstrip('\\n')\n",
    "    if(i==0):\n",
    "        tagnum=int(line.split(' ')[0])\n",
    "        querynum=int(line.split(' ')[1])\n",
    "        i+=1\n",
    "    else:\n",
    "        if(i!=tagnum+1):\n",
    "            source_code+=str(line)\n",
    "            i+=1\n",
    "        else:\n",
    "            list.append(line)\n",
    "\n",
    "soup = BeautifulSoup(source_code)\n",
    "\n",
    "for x in list:\n",
    "    if(x!=None and len(x)>0):\n",
    "        value=x.split(\"~\")[1]\n",
    "        tag=x.split(\"~\")[0]\n",
    "        tags = tag.split(\".\")\n",
    "        r =\"\"\n",
    "        p =\"\"\n",
    "        for t in tags:\n",
    "            p = soup.find_all(t)\n",
    "        str1 = ''.join(str(e) for e in p)\n",
    "        soupnew = BeautifulSoup(str1)\n",
    "        \n",
    "        lasttag = tags[len(tags)-1]\n",
    "        result = soupnew.find(lasttag).attrs\n",
    "        for k, v in result.items():\n",
    "             if k == value:\n",
    "                r = v\n",
    "        if(len(r))>0:\n",
    "            print(r)\n",
    "        else:\n",
    "            print('Not Found!')"
   ]
  },
  {
   "cell_type": "code",
   "execution_count": 3,
   "metadata": {
    "collapsed": false
   },
   "outputs": [
    {
     "name": "stderr",
     "output_type": "stream",
     "text": [
      "C:\\Users\\suche\\Anaconda3\\lib\\site-packages\\bs4\\__init__.py:181: UserWarning: No parser was explicitly specified, so I'm using the best available HTML parser for this system (\"lxml\"). This usually isn't a problem, but if you run this code on another system, or in a different virtual environment, it may use a different parser and behave differently.\n",
      "\n",
      "The code that caused this warning is on line 184 of the file C:\\Users\\suche\\Anaconda3\\lib\\runpy.py. To get rid of this warning, change code that looks like this:\n",
      "\n",
      " BeautifulSoup([your markup])\n",
      "\n",
      "to this:\n",
      "\n",
      " BeautifulSoup([your markup], \"lxml\")\n",
      "\n",
      "  markup_type=markup_type))\n"
     ]
    }
   ],
   "source": [
    "soup = BeautifulSoup(source_code)\n",
    "\n",
    "for x in list:\n",
    "    if(x!=None and len(x)>0):\n",
    "        value=x.split(\"~\")[1]\n",
    "        tag=x.split(\"~\")[0]\n",
    "        tags = tag.split(\".\")\n",
    "        r =\"\"\n",
    "        p =\"\"\n",
    "        for t in tags:\n",
    "            p = soup.find_all(t)\n",
    "        str1 = ''.join(str(e) for e in p)\n",
    "        soupnew = BeautifulSoup(str1)\n",
    "        lasttag = tags[len(tags)-1]\n",
    "        result = soupnew.find(lasttag).attrs\n",
    "        for k, v in result.items():\n",
    "             if k == value:\n",
    "                r = v\n",
    "        if(len(r))>0:\n",
    "            print(r)\n",
    "        else:\n",
    "            print('Not Found!')"
   ]
  },
  {
   "cell_type": "code",
   "execution_count": null,
   "metadata": {
    "collapsed": false
   },
   "outputs": [],
   "source": [
    "num=[]\n",
    "try:\n",
    "    while True:\n",
    "        inp = input()\n",
    "        if inp != \"\":\n",
    "            num.append(inp)\n",
    "        else:\n",
    "            break\n",
    "except EOFError:\n",
    "    pass\n",
    "\n",
    "print(num)"
   ]
  },
  {
   "cell_type": "code",
   "execution_count": null,
   "metadata": {
    "collapsed": true
   },
   "outputs": [],
   "source": []
  },
  {
   "cell_type": "code",
   "execution_count": null,
   "metadata": {
    "collapsed": true
   },
   "outputs": [],
   "source": []
  }
 ],
 "metadata": {
  "anaconda-cloud": {},
  "kernelspec": {
   "display_name": "Python [conda root]",
   "language": "python",
   "name": "conda-root-py"
  },
  "language_info": {
   "codemirror_mode": {
    "name": "ipython",
    "version": 3
   },
   "file_extension": ".py",
   "mimetype": "text/x-python",
   "name": "python",
   "nbconvert_exporter": "python",
   "pygments_lexer": "ipython3",
   "version": "3.5.2"
  }
 },
 "nbformat": 4,
 "nbformat_minor": 1
}
