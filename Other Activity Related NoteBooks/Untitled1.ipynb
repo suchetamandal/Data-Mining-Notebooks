{
 "cells": [
  {
   "cell_type": "code",
   "execution_count": null,
   "metadata": {
    "collapsed": false
   },
   "outputs": [],
   "source": [
    "!pip install BeautifulSoup4"
   ]
  },
  {
   "cell_type": "code",
   "execution_count": 21,
   "metadata": {
    "collapsed": false
   },
   "outputs": [
    {
     "name": "stdout",
     "output_type": "stream",
     "text": [
      "Name1\n",
      "Not Found\n",
      "Not Found\n"
     ]
    },
    {
     "name": "stderr",
     "output_type": "stream",
     "text": [
      "C:\\Users\\suche\\Anaconda3\\lib\\site-packages\\bs4\\__init__.py:181: UserWarning: No parser was explicitly specified, so I'm using the best available HTML parser for this system (\"lxml\"). This usually isn't a problem, but if you run this code on another system, or in a different virtual environment, it may use a different parser and behave differently.\n",
      "\n",
      "The code that caused this warning is on line 184 of the file C:\\Users\\suche\\Anaconda3\\lib\\runpy.py. To get rid of this warning, change code that looks like this:\n",
      "\n",
      " BeautifulSoup([your markup])\n",
      "\n",
      "to this:\n",
      "\n",
      " BeautifulSoup([your markup], \"lxml\")\n",
      "\n",
      "  markup_type=markup_type))\n"
     ]
    }
   ],
   "source": [
    "from bs4 import BeautifulSoup\n",
    "source_code=\"<tag1 value = 'HelloWorld'><tag2 name = 'Name1'></tag2><tag2 name = 'Name3'></tag2></tag1>\"\n",
    "list=['tag1.tag2~name', 'tag1.tag2.tag3', 'tag1.tag2~name~value', '']\n",
    "soup = BeautifulSoup(source_code)\n",
    "\n",
    "for x in list:\n",
    "    if(x!=None and len(x)>0):\n",
    "        r =\"\"\n",
    "        if(len(x.split(\"~\"))==2):\n",
    "            value = x.split(\"~\")[1]\n",
    "            tag=x.split(\"~\")[0]\n",
    "            tags = tag.split(\".\")\n",
    "            p =\"\"\n",
    "            for t in tags:\n",
    "                p = soup.find_all(t)\n",
    "                if(len(p)==1):\n",
    "                    str1 = ''.join(str(e) for e in p)\n",
    "                    soupnew = BeautifulSoup(str1)\n",
    "                    if(len(tags)>0):\n",
    "                        lasttag = tags[len(tags)-1]\n",
    "                        if(soupnew.find(lasttag) != None):\n",
    "                            result = soupnew.find(lasttag).attrs\n",
    "                            for k, v in result.items():\n",
    "                                if k == value:\n",
    "                                    r = v\n",
    "            if(len(r))>0:\n",
    "                print(r)\n",
    "            else:\n",
    "                print('Not Found')\n",
    "        else:\n",
    "            print('Not Found')"
   ]
  },
  {
   "cell_type": "code",
   "execution_count": 5,
   "metadata": {
    "collapsed": false
   },
   "outputs": [
    {
     "name": "stdout",
     "output_type": "stream",
     "text": [
      "Enter space seperated inputs : 4 3 <tag1 value = 'HelloWorld'> <tag2 name = 'name'> </tag2> </tag1> tag1.tag2~name tag1~name tag1~value\n"
     ]
    }
   ],
   "source": [
    "import sys\n",
    "ip=map(str,input(\"Enter space seperated inputs : \").split(\"/n\"))"
   ]
  },
  {
   "cell_type": "code",
   "execution_count": 11,
   "metadata": {
    "collapsed": false
   },
   "outputs": [
    {
     "data": {
      "text/plain": [
       "<map at 0x1ad2a53e7b8>"
      ]
     },
     "execution_count": 11,
     "metadata": {},
     "output_type": "execute_result"
    }
   ],
   "source": [
    "from pprint import pprint\n",
    "\n",
    "map(pprint, ip)"
   ]
  },
  {
   "cell_type": "code",
   "execution_count": 12,
   "metadata": {
    "collapsed": false
   },
   "outputs": [
    {
     "name": "stdout",
     "output_type": "stream",
     "text": [
      "4 3 <tag1 value = 'HelloWorld'> <tag2 name = 'name'> </tag2> </tag1> tag1.tag2~name tag1~name tag1~value\n"
     ]
    }
   ],
   "source": [
    "for ch in ip:\n",
    "    print(ch)"
   ]
  },
  {
   "cell_type": "code",
   "execution_count": null,
   "metadata": {
    "collapsed": false
   },
   "outputs": [],
   "source": [
    "num = []\n",
    "for i in range(1, 7):\n",
    "    text = input()\n",
    "    if len(text)>0:\n",
    "        num.append(text)\n",
    "    else:\n",
    "        break;\n",
    "print (num)"
   ]
  },
  {
   "cell_type": "code",
   "execution_count": null,
   "metadata": {
    "collapsed": true
   },
   "outputs": [],
   "source": []
  }
 ],
 "metadata": {
  "anaconda-cloud": {},
  "kernelspec": {
   "display_name": "Python [conda root]",
   "language": "python",
   "name": "conda-root-py"
  },
  "language_info": {
   "codemirror_mode": {
    "name": "ipython",
    "version": 3
   },
   "file_extension": ".py",
   "mimetype": "text/x-python",
   "name": "python",
   "nbconvert_exporter": "python",
   "pygments_lexer": "ipython3",
   "version": "3.5.2"
  }
 },
 "nbformat": 4,
 "nbformat_minor": 1
}
