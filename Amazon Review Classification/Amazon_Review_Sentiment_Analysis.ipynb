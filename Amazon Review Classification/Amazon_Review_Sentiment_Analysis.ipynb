{
 "cells": [
  {
   "cell_type": "code",
   "execution_count": null,
   "metadata": {
    "collapsed": false
   },
   "outputs": [],
   "source": [
    "import pandas as pd\n",
    "import nltk\n",
    "nltk.download(\"stopwords\")"
   ]
  },
  {
   "cell_type": "code",
   "execution_count": null,
   "metadata": {
    "collapsed": false
   },
   "outputs": [],
   "source": [
    "with open('train.dat','r') as f:\n",
    "    df = pd.DataFrame(l.split(\"\\t\") for l in f) "
   ]
  },
  {
   "cell_type": "code",
   "execution_count": null,
   "metadata": {
    "collapsed": false
   },
   "outputs": [],
   "source": [
    "df.columns = [\"rating\",\"review\"]\n",
    "df[\"review\"] = df[\"review\"].str.lower().str.split()"
   ]
  },
  {
   "cell_type": "code",
   "execution_count": null,
   "metadata": {
    "collapsed": false
   },
   "outputs": [],
   "source": [
    "#Removal of stopwords and other unwanted things (only Alphabates present)\n",
    "from nltk.corpus import stopwords\n",
    "import re\n",
    "stop = stopwords.words('english')\n",
    "df[\"review\"] = df[\"review\"].apply(lambda x: [item for item in x if item not in stop])\n",
    "df[\"review\"] = df[\"review\"].apply(lambda sentence :[word.replace(\",\", \"\").replace(\".\", \"\").replace(\"(\",\"\").replace(\")\",\"\").replace(\"/\",\"\") for word in sentence])   \n",
    "df[\"review\"] = df[\"review\"].apply(lambda line: [re.sub(\"[^a-zA-Z]+\", \"\", word) for word in line])"
   ]
  },
  {
   "cell_type": "code",
   "execution_count": null,
   "metadata": {
    "collapsed": true
   },
   "outputs": [],
   "source": [
    "poslines = df.loc[df['rating'].isin(['+1'])]\n",
    "neglines = df.loc[df['rating'].isin(['-1'])]"
   ]
  },
  {
   "cell_type": "code",
   "execution_count": null,
   "metadata": {
    "collapsed": false
   },
   "outputs": [],
   "source": [
    "#Determine frequency distribution from positive reviews and negative reviews. Only taking into consideration long words\n",
    "wd_freq={}\n",
    "trainfeatures = []\n",
    "for pdf in poslines[\"review\"]:\n",
    "    poswords =[]\n",
    "    for word in list(pdf):\n",
    "        if(len(word)>=3 and str.isalpha(word)):\n",
    "            wd_freq[word]= wd_freq.get(word, 0) + 1\n",
    "            poswords.append(word)\n",
    "    trainfeatures.append((poswords, '+1'))  \n",
    "    \n",
    "for pdf in neglines[\"review\"]: \n",
    "    negwords =[]\n",
    "    for word in list(pdf):\n",
    "        if(len(word)>=3 and str.isalpha(word)):\n",
    "            wd_freq[word]= wd_freq.get(word, 0) + 1\n",
    "            negwords.append(word)\n",
    "    trainfeatures.append((negwords, '-1')) \n",
    "print(len(trainfeatures))    "
   ]
  },
  {
   "cell_type": "code",
   "execution_count": null,
   "metadata": {
    "collapsed": false
   },
   "outputs": [],
   "source": [
    "#Preprocess test data\n",
    "with open('test.dat','r') as f:\n",
    "        test_df = pd.DataFrame(l.split(\"\\t\") for l in f)\n",
    "        test_df.columns = [\"review\"]\n",
    "        test_df[\"review\"] = test_df[\"review\"].str.lower().str.split()\n",
    "        stop = stopwords.words('english')\n",
    "        test_df[\"review\"]= test_df[\"review\"].apply(lambda x: [item for item in x if item not in stop])\n",
    "        test_df[\"review\"]=  test_df[\"review\"].apply(lambda x :[word.replace(\",\", \"\").replace(\".\", \"\").replace(\"(\",\"\").replace(\")\",\"\").replace(\"/\",\"\") for word in x])  \n",
    "        test_df[\"review\"]= test_df[\"review\"].apply(lambda x: [re.sub(\"[^a-zA-Z]+\", \"\", word) for word in x])           "
   ]
  },
  {
   "cell_type": "code",
   "execution_count": null,
   "metadata": {
    "collapsed": false
   },
   "outputs": [],
   "source": [
    "def k_neighbour_find(test_df,trainfeatures,wd_freq,length,k):\n",
    "    import warnings\n",
    "    from math import log\n",
    "    count =0\n",
    "    if(len(trainfeatures)<=k):\n",
    "        warnings.warn('K is set to a value, that is less than input length')\n",
    "    output = open(\"prediciton.dat\", 'w')   \n",
    "    for sentence in test_df[\"review\"]:\n",
    "        results=[]\n",
    "        commonwords=[]\n",
    "        for trainwords, trainlabel in trainfeatures:\n",
    "            commonwords= [x for x in trainwords if x in sentence and len(x)>=3]\n",
    "            match = 0.0\n",
    "            for word in commonwords:\n",
    "                 match = match + log(length/wd_freq[word])    \n",
    "            results.append((match, trainlabel))    \n",
    "        results.sort(reverse=True)\n",
    "        top_k= [x[1] for x in results[:k]]\n",
    "        positives= top_k.count('+1')\n",
    "        negatives= top_k.count('-1')\n",
    "        if negatives> positives:\n",
    "            count = count + 1\n",
    "            output.write(\"-1\\n\")\n",
    "            print(count)\n",
    "        else: \n",
    "            count = count + 1\n",
    "            output.write(\"+1\\n\")\n",
    "            print(count)\n",
    "    output.close() \n",
    "    print(\"Job Done!!!\")"
   ]
  },
  {
   "cell_type": "code",
   "execution_count": null,
   "metadata": {
    "collapsed": false
   },
   "outputs": [],
   "source": [
    "import math\n",
    "length = len(poslines) + len(neglines)\n",
    "x = math.sqrt(length)\n",
    "k = math.floor(x) \n",
    "k = k * 2\n",
    "print(\"K will \"+ str(k) )  \n",
    "k_neighbour_find(test_df,trainfeatures,wd_freq,length,k)"
   ]
  },
  {
   "cell_type": "code",
   "execution_count": null,
   "metadata": {
    "collapsed": true
   },
   "outputs": [],
   "source": []
  }
 ],
 "metadata": {
  "anaconda-cloud": {},
  "kernelspec": {
   "display_name": "Python [conda root]",
   "language": "python",
   "name": "conda-root-py"
  },
  "language_info": {
   "codemirror_mode": {
    "name": "ipython",
    "version": 3
   },
   "file_extension": ".py",
   "mimetype": "text/x-python",
   "name": "python",
   "nbconvert_exporter": "python",
   "pygments_lexer": "ipython3",
   "version": "3.5.2"
  }
 },
 "nbformat": 4,
 "nbformat_minor": 1
}
